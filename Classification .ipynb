{
 "cells": [
  {
   "cell_type": "code",
   "execution_count": 87,
   "id": "0a90eef1",
   "metadata": {},
   "outputs": [],
   "source": [
    "import pandas as pd\n",
    "import seaborn as sns\n",
    "import numpy as np\n",
    "from sklearn.preprocessing import StandardScaler, MinMaxScaler\n",
    "from sklearn.model_selection import train_test_split\n",
    "from sklearn import preprocessing\n",
    "from sklearn.metrics import confusion_matrix\n",
    "from sklearn.model_selection import cross_val_score\n",
    "from sklearn.preprocessing import LabelEncoder\n",
    "from numpy import mean\n",
    "from numpy import std\n",
    "from sklearn.model_selection import KFold\n",
    "from sklearn.model_selection import cross_val_score\n",
    "from sklearn import linear_model\n",
    "from sklearn.metrics import mean_squared_error, r2_score\n",
    "from sklearn.linear_model import LogisticRegression  \n",
    "from sklearn import metrics\n",
    "from sklearn.metrics import accuracy_score\n",
    "from sklearn.linear_model import Ridge\n",
    "from sklearn.model_selection import StratifiedKFold\n"
   ]
  },
  {
   "cell_type": "markdown",
   "id": "bc1c1940",
   "metadata": {},
   "source": [
    "## Exploring data and scaling"
   ]
  },
  {
   "cell_type": "code",
   "execution_count": 88,
   "id": "cb667166",
   "metadata": {},
   "outputs": [
    {
     "data": {
      "text/plain": [
       "(6362620, 11)"
      ]
     },
     "execution_count": 88,
     "metadata": {},
     "output_type": "execute_result"
    }
   ],
   "source": [
    "df= pd.read_csv('classification.csv')\n",
    "df.shape"
   ]
  },
  {
   "cell_type": "code",
   "execution_count": 89,
   "id": "f56e8cf2",
   "metadata": {},
   "outputs": [
    {
     "data": {
      "text/html": [
       "<div>\n",
       "<style scoped>\n",
       "    .dataframe tbody tr th:only-of-type {\n",
       "        vertical-align: middle;\n",
       "    }\n",
       "\n",
       "    .dataframe tbody tr th {\n",
       "        vertical-align: top;\n",
       "    }\n",
       "\n",
       "    .dataframe thead th {\n",
       "        text-align: right;\n",
       "    }\n",
       "</style>\n",
       "<table border=\"1\" class=\"dataframe\">\n",
       "  <thead>\n",
       "    <tr style=\"text-align: right;\">\n",
       "      <th></th>\n",
       "      <th>step</th>\n",
       "      <th>type</th>\n",
       "      <th>amount</th>\n",
       "      <th>nameOrig</th>\n",
       "      <th>oldbalanceOrg</th>\n",
       "      <th>newbalanceOrig</th>\n",
       "      <th>nameDest</th>\n",
       "      <th>oldbalanceDest</th>\n",
       "      <th>newbalanceDest</th>\n",
       "      <th>isFraud</th>\n",
       "      <th>isFlaggedFraud</th>\n",
       "    </tr>\n",
       "  </thead>\n",
       "  <tbody>\n",
       "    <tr>\n",
       "      <th>0</th>\n",
       "      <td>1</td>\n",
       "      <td>PAYMENT</td>\n",
       "      <td>9839.64</td>\n",
       "      <td>C1231006815</td>\n",
       "      <td>170136.0</td>\n",
       "      <td>160296.36</td>\n",
       "      <td>M1979787155</td>\n",
       "      <td>0.0</td>\n",
       "      <td>0.0</td>\n",
       "      <td>0</td>\n",
       "      <td>0</td>\n",
       "    </tr>\n",
       "    <tr>\n",
       "      <th>1</th>\n",
       "      <td>1</td>\n",
       "      <td>PAYMENT</td>\n",
       "      <td>1864.28</td>\n",
       "      <td>C1666544295</td>\n",
       "      <td>21249.0</td>\n",
       "      <td>19384.72</td>\n",
       "      <td>M2044282225</td>\n",
       "      <td>0.0</td>\n",
       "      <td>0.0</td>\n",
       "      <td>0</td>\n",
       "      <td>0</td>\n",
       "    </tr>\n",
       "    <tr>\n",
       "      <th>2</th>\n",
       "      <td>1</td>\n",
       "      <td>TRANSFER</td>\n",
       "      <td>181.00</td>\n",
       "      <td>C1305486145</td>\n",
       "      <td>181.0</td>\n",
       "      <td>0.00</td>\n",
       "      <td>C553264065</td>\n",
       "      <td>0.0</td>\n",
       "      <td>0.0</td>\n",
       "      <td>1</td>\n",
       "      <td>0</td>\n",
       "    </tr>\n",
       "    <tr>\n",
       "      <th>3</th>\n",
       "      <td>1</td>\n",
       "      <td>CASH_OUT</td>\n",
       "      <td>181.00</td>\n",
       "      <td>C840083671</td>\n",
       "      <td>181.0</td>\n",
       "      <td>0.00</td>\n",
       "      <td>C38997010</td>\n",
       "      <td>21182.0</td>\n",
       "      <td>0.0</td>\n",
       "      <td>1</td>\n",
       "      <td>0</td>\n",
       "    </tr>\n",
       "    <tr>\n",
       "      <th>4</th>\n",
       "      <td>1</td>\n",
       "      <td>PAYMENT</td>\n",
       "      <td>11668.14</td>\n",
       "      <td>C2048537720</td>\n",
       "      <td>41554.0</td>\n",
       "      <td>29885.86</td>\n",
       "      <td>M1230701703</td>\n",
       "      <td>0.0</td>\n",
       "      <td>0.0</td>\n",
       "      <td>0</td>\n",
       "      <td>0</td>\n",
       "    </tr>\n",
       "  </tbody>\n",
       "</table>\n",
       "</div>"
      ],
      "text/plain": [
       "   step      type    amount     nameOrig  oldbalanceOrg  newbalanceOrig  \\\n",
       "0     1   PAYMENT   9839.64  C1231006815       170136.0       160296.36   \n",
       "1     1   PAYMENT   1864.28  C1666544295        21249.0        19384.72   \n",
       "2     1  TRANSFER    181.00  C1305486145          181.0            0.00   \n",
       "3     1  CASH_OUT    181.00   C840083671          181.0            0.00   \n",
       "4     1   PAYMENT  11668.14  C2048537720        41554.0        29885.86   \n",
       "\n",
       "      nameDest  oldbalanceDest  newbalanceDest  isFraud  isFlaggedFraud  \n",
       "0  M1979787155             0.0             0.0        0               0  \n",
       "1  M2044282225             0.0             0.0        0               0  \n",
       "2   C553264065             0.0             0.0        1               0  \n",
       "3    C38997010         21182.0             0.0        1               0  \n",
       "4  M1230701703             0.0             0.0        0               0  "
      ]
     },
     "execution_count": 89,
     "metadata": {},
     "output_type": "execute_result"
    }
   ],
   "source": [
    "df.head()"
   ]
  },
  {
   "cell_type": "code",
   "execution_count": 90,
   "id": "94fa8902",
   "metadata": {},
   "outputs": [
    {
     "data": {
      "text/plain": [
       "0    0.998709\n",
       "1    0.001291\n",
       "Name: isFraud, dtype: float64"
      ]
     },
     "execution_count": 90,
     "metadata": {},
     "output_type": "execute_result"
    }
   ],
   "source": [
    "df['isFraud'].value_counts()/6362620"
   ]
  },
  {
   "cell_type": "code",
   "execution_count": 91,
   "id": "24079eea",
   "metadata": {},
   "outputs": [
    {
     "data": {
      "text/plain": [
       "(2000000, 11)"
      ]
     },
     "execution_count": 91,
     "metadata": {},
     "output_type": "execute_result"
    }
   ],
   "source": [
    "df_sample=df.sample(n=2000000)\n",
    "df_sample.shape"
   ]
  },
  {
   "cell_type": "code",
   "execution_count": 92,
   "id": "d7fda631",
   "metadata": {},
   "outputs": [
    {
     "data": {
      "text/html": [
       "<div>\n",
       "<style scoped>\n",
       "    .dataframe tbody tr th:only-of-type {\n",
       "        vertical-align: middle;\n",
       "    }\n",
       "\n",
       "    .dataframe tbody tr th {\n",
       "        vertical-align: top;\n",
       "    }\n",
       "\n",
       "    .dataframe thead th {\n",
       "        text-align: right;\n",
       "    }\n",
       "</style>\n",
       "<table border=\"1\" class=\"dataframe\">\n",
       "  <thead>\n",
       "    <tr style=\"text-align: right;\">\n",
       "      <th></th>\n",
       "      <th>step</th>\n",
       "      <th>type</th>\n",
       "      <th>amount</th>\n",
       "      <th>nameOrig</th>\n",
       "      <th>oldbalanceOrg</th>\n",
       "      <th>newbalanceOrig</th>\n",
       "      <th>nameDest</th>\n",
       "      <th>oldbalanceDest</th>\n",
       "      <th>newbalanceDest</th>\n",
       "      <th>isFraud</th>\n",
       "      <th>isFlaggedFraud</th>\n",
       "    </tr>\n",
       "  </thead>\n",
       "  <tbody>\n",
       "    <tr>\n",
       "      <th>4164641</th>\n",
       "      <td>304</td>\n",
       "      <td>CASH_IN</td>\n",
       "      <td>518582.62</td>\n",
       "      <td>C1997888531</td>\n",
       "      <td>326.0</td>\n",
       "      <td>518908.62</td>\n",
       "      <td>C243306413</td>\n",
       "      <td>1235851.99</td>\n",
       "      <td>717269.37</td>\n",
       "      <td>0</td>\n",
       "      <td>0</td>\n",
       "    </tr>\n",
       "    <tr>\n",
       "      <th>2241693</th>\n",
       "      <td>186</td>\n",
       "      <td>PAYMENT</td>\n",
       "      <td>37312.36</td>\n",
       "      <td>C1096073367</td>\n",
       "      <td>51377.0</td>\n",
       "      <td>14064.64</td>\n",
       "      <td>M962538020</td>\n",
       "      <td>0.00</td>\n",
       "      <td>0.00</td>\n",
       "      <td>0</td>\n",
       "      <td>0</td>\n",
       "    </tr>\n",
       "    <tr>\n",
       "      <th>5275627</th>\n",
       "      <td>372</td>\n",
       "      <td>PAYMENT</td>\n",
       "      <td>9094.54</td>\n",
       "      <td>C223689162</td>\n",
       "      <td>80304.0</td>\n",
       "      <td>71209.46</td>\n",
       "      <td>M303418052</td>\n",
       "      <td>0.00</td>\n",
       "      <td>0.00</td>\n",
       "      <td>0</td>\n",
       "      <td>0</td>\n",
       "    </tr>\n",
       "    <tr>\n",
       "      <th>2805590</th>\n",
       "      <td>225</td>\n",
       "      <td>CASH_OUT</td>\n",
       "      <td>194422.54</td>\n",
       "      <td>C266657247</td>\n",
       "      <td>40380.0</td>\n",
       "      <td>0.00</td>\n",
       "      <td>C307867643</td>\n",
       "      <td>23281.97</td>\n",
       "      <td>217704.51</td>\n",
       "      <td>0</td>\n",
       "      <td>0</td>\n",
       "    </tr>\n",
       "    <tr>\n",
       "      <th>176313</th>\n",
       "      <td>12</td>\n",
       "      <td>CASH_OUT</td>\n",
       "      <td>416906.47</td>\n",
       "      <td>C1245690599</td>\n",
       "      <td>0.0</td>\n",
       "      <td>0.00</td>\n",
       "      <td>C920740601</td>\n",
       "      <td>942493.16</td>\n",
       "      <td>2668884.40</td>\n",
       "      <td>0</td>\n",
       "      <td>0</td>\n",
       "    </tr>\n",
       "  </tbody>\n",
       "</table>\n",
       "</div>"
      ],
      "text/plain": [
       "         step      type     amount     nameOrig  oldbalanceOrg  \\\n",
       "4164641   304   CASH_IN  518582.62  C1997888531          326.0   \n",
       "2241693   186   PAYMENT   37312.36  C1096073367        51377.0   \n",
       "5275627   372   PAYMENT    9094.54   C223689162        80304.0   \n",
       "2805590   225  CASH_OUT  194422.54   C266657247        40380.0   \n",
       "176313     12  CASH_OUT  416906.47  C1245690599            0.0   \n",
       "\n",
       "         newbalanceOrig    nameDest  oldbalanceDest  newbalanceDest  isFraud  \\\n",
       "4164641       518908.62  C243306413      1235851.99       717269.37        0   \n",
       "2241693        14064.64  M962538020            0.00            0.00        0   \n",
       "5275627        71209.46  M303418052            0.00            0.00        0   \n",
       "2805590            0.00  C307867643        23281.97       217704.51        0   \n",
       "176313             0.00  C920740601       942493.16      2668884.40        0   \n",
       "\n",
       "         isFlaggedFraud  \n",
       "4164641               0  \n",
       "2241693               0  \n",
       "5275627               0  \n",
       "2805590               0  \n",
       "176313                0  "
      ]
     },
     "execution_count": 92,
     "metadata": {},
     "output_type": "execute_result"
    }
   ],
   "source": [
    "df_sample.head()"
   ]
  },
  {
   "cell_type": "markdown",
   "id": "6ce57128",
   "metadata": {},
   "source": [
    "#### making sure the sampled data reflects the whole data"
   ]
  },
  {
   "cell_type": "code",
   "execution_count": 93,
   "id": "2588852d",
   "metadata": {},
   "outputs": [
    {
     "data": {
      "text/plain": [
       "0    0.998744\n",
       "1    0.001257\n",
       "Name: isFraud, dtype: float64"
      ]
     },
     "execution_count": 93,
     "metadata": {},
     "output_type": "execute_result"
    }
   ],
   "source": [
    "df_sample['isFraud'].value_counts()/2000000"
   ]
  },
  {
   "cell_type": "code",
   "execution_count": 112,
   "id": "a176e150",
   "metadata": {},
   "outputs": [
    {
     "data": {
      "text/html": [
       "<div>\n",
       "<style scoped>\n",
       "    .dataframe tbody tr th:only-of-type {\n",
       "        vertical-align: middle;\n",
       "    }\n",
       "\n",
       "    .dataframe tbody tr th {\n",
       "        vertical-align: top;\n",
       "    }\n",
       "\n",
       "    .dataframe thead th {\n",
       "        text-align: right;\n",
       "    }\n",
       "</style>\n",
       "<table border=\"1\" class=\"dataframe\">\n",
       "  <thead>\n",
       "    <tr style=\"text-align: right;\">\n",
       "      <th></th>\n",
       "      <th>step</th>\n",
       "      <th>type</th>\n",
       "      <th>amount</th>\n",
       "      <th>nameOrig</th>\n",
       "      <th>oldbalanceOrg</th>\n",
       "      <th>newbalanceOrig</th>\n",
       "      <th>nameDest</th>\n",
       "      <th>oldbalanceDest</th>\n",
       "      <th>newbalanceDest</th>\n",
       "      <th>isFraud</th>\n",
       "      <th>isFlaggedFraud</th>\n",
       "    </tr>\n",
       "  </thead>\n",
       "  <tbody>\n",
       "    <tr>\n",
       "      <th>count</th>\n",
       "      <td>2.000000e+06</td>\n",
       "      <td>2.000000e+06</td>\n",
       "      <td>2.000000e+06</td>\n",
       "      <td>2.000000e+06</td>\n",
       "      <td>2.000000e+06</td>\n",
       "      <td>2.000000e+06</td>\n",
       "      <td>2.000000e+06</td>\n",
       "      <td>2.000000e+06</td>\n",
       "      <td>2.000000e+06</td>\n",
       "      <td>2.000000e+06</td>\n",
       "      <td>2.000000e+06</td>\n",
       "    </tr>\n",
       "    <tr>\n",
       "      <th>mean</th>\n",
       "      <td>2.434416e+02</td>\n",
       "      <td>1.713553e+00</td>\n",
       "      <td>1.800960e+05</td>\n",
       "      <td>9.995343e+05</td>\n",
       "      <td>8.379052e+05</td>\n",
       "      <td>8.591746e+05</td>\n",
       "      <td>3.932684e+05</td>\n",
       "      <td>1.099916e+06</td>\n",
       "      <td>1.224395e+06</td>\n",
       "      <td>1.256500e-03</td>\n",
       "      <td>4.000000e-06</td>\n",
       "    </tr>\n",
       "    <tr>\n",
       "      <th>std</th>\n",
       "      <td>1.422229e+02</td>\n",
       "      <td>1.350632e+00</td>\n",
       "      <td>6.035261e+05</td>\n",
       "      <td>5.770904e+05</td>\n",
       "      <td>2.900557e+06</td>\n",
       "      <td>2.936267e+06</td>\n",
       "      <td>2.987344e+05</td>\n",
       "      <td>3.349706e+06</td>\n",
       "      <td>3.624120e+06</td>\n",
       "      <td>3.542488e-02</td>\n",
       "      <td>1.999996e-03</td>\n",
       "    </tr>\n",
       "    <tr>\n",
       "      <th>min</th>\n",
       "      <td>1.000000e+00</td>\n",
       "      <td>0.000000e+00</td>\n",
       "      <td>0.000000e+00</td>\n",
       "      <td>0.000000e+00</td>\n",
       "      <td>0.000000e+00</td>\n",
       "      <td>0.000000e+00</td>\n",
       "      <td>0.000000e+00</td>\n",
       "      <td>0.000000e+00</td>\n",
       "      <td>0.000000e+00</td>\n",
       "      <td>0.000000e+00</td>\n",
       "      <td>0.000000e+00</td>\n",
       "    </tr>\n",
       "    <tr>\n",
       "      <th>25%</th>\n",
       "      <td>1.560000e+02</td>\n",
       "      <td>1.000000e+00</td>\n",
       "      <td>1.340960e+04</td>\n",
       "      <td>4.997518e+05</td>\n",
       "      <td>0.000000e+00</td>\n",
       "      <td>0.000000e+00</td>\n",
       "      <td>1.579148e+05</td>\n",
       "      <td>0.000000e+00</td>\n",
       "      <td>0.000000e+00</td>\n",
       "      <td>0.000000e+00</td>\n",
       "      <td>0.000000e+00</td>\n",
       "    </tr>\n",
       "    <tr>\n",
       "      <th>50%</th>\n",
       "      <td>2.390000e+02</td>\n",
       "      <td>1.000000e+00</td>\n",
       "      <td>7.488355e+04</td>\n",
       "      <td>9.995405e+05</td>\n",
       "      <td>1.421465e+04</td>\n",
       "      <td>0.000000e+00</td>\n",
       "      <td>3.150220e+05</td>\n",
       "      <td>1.331082e+05</td>\n",
       "      <td>2.146197e+05</td>\n",
       "      <td>0.000000e+00</td>\n",
       "      <td>0.000000e+00</td>\n",
       "    </tr>\n",
       "    <tr>\n",
       "      <th>75%</th>\n",
       "      <td>3.340000e+02</td>\n",
       "      <td>3.000000e+00</td>\n",
       "      <td>2.088598e+05</td>\n",
       "      <td>1.499305e+06</td>\n",
       "      <td>1.074550e+05</td>\n",
       "      <td>1.447966e+05</td>\n",
       "      <td>5.929592e+05</td>\n",
       "      <td>9.434270e+05</td>\n",
       "      <td>1.112279e+06</td>\n",
       "      <td>0.000000e+00</td>\n",
       "      <td>0.000000e+00</td>\n",
       "    </tr>\n",
       "    <tr>\n",
       "      <th>max</th>\n",
       "      <td>7.430000e+02</td>\n",
       "      <td>4.000000e+00</td>\n",
       "      <td>7.117248e+07</td>\n",
       "      <td>1.999083e+06</td>\n",
       "      <td>5.039905e+07</td>\n",
       "      <td>4.367380e+07</td>\n",
       "      <td>1.092887e+06</td>\n",
       "      <td>3.560159e+08</td>\n",
       "      <td>3.561793e+08</td>\n",
       "      <td>1.000000e+00</td>\n",
       "      <td>1.000000e+00</td>\n",
       "    </tr>\n",
       "  </tbody>\n",
       "</table>\n",
       "</div>"
      ],
      "text/plain": [
       "               step          type        amount      nameOrig  oldbalanceOrg  \\\n",
       "count  2.000000e+06  2.000000e+06  2.000000e+06  2.000000e+06   2.000000e+06   \n",
       "mean   2.434416e+02  1.713553e+00  1.800960e+05  9.995343e+05   8.379052e+05   \n",
       "std    1.422229e+02  1.350632e+00  6.035261e+05  5.770904e+05   2.900557e+06   \n",
       "min    1.000000e+00  0.000000e+00  0.000000e+00  0.000000e+00   0.000000e+00   \n",
       "25%    1.560000e+02  1.000000e+00  1.340960e+04  4.997518e+05   0.000000e+00   \n",
       "50%    2.390000e+02  1.000000e+00  7.488355e+04  9.995405e+05   1.421465e+04   \n",
       "75%    3.340000e+02  3.000000e+00  2.088598e+05  1.499305e+06   1.074550e+05   \n",
       "max    7.430000e+02  4.000000e+00  7.117248e+07  1.999083e+06   5.039905e+07   \n",
       "\n",
       "       newbalanceOrig      nameDest  oldbalanceDest  newbalanceDest  \\\n",
       "count    2.000000e+06  2.000000e+06    2.000000e+06    2.000000e+06   \n",
       "mean     8.591746e+05  3.932684e+05    1.099916e+06    1.224395e+06   \n",
       "std      2.936267e+06  2.987344e+05    3.349706e+06    3.624120e+06   \n",
       "min      0.000000e+00  0.000000e+00    0.000000e+00    0.000000e+00   \n",
       "25%      0.000000e+00  1.579148e+05    0.000000e+00    0.000000e+00   \n",
       "50%      0.000000e+00  3.150220e+05    1.331082e+05    2.146197e+05   \n",
       "75%      1.447966e+05  5.929592e+05    9.434270e+05    1.112279e+06   \n",
       "max      4.367380e+07  1.092887e+06    3.560159e+08    3.561793e+08   \n",
       "\n",
       "            isFraud  isFlaggedFraud  \n",
       "count  2.000000e+06    2.000000e+06  \n",
       "mean   1.256500e-03    4.000000e-06  \n",
       "std    3.542488e-02    1.999996e-03  \n",
       "min    0.000000e+00    0.000000e+00  \n",
       "25%    0.000000e+00    0.000000e+00  \n",
       "50%    0.000000e+00    0.000000e+00  \n",
       "75%    0.000000e+00    0.000000e+00  \n",
       "max    1.000000e+00    1.000000e+00  "
      ]
     },
     "execution_count": 112,
     "metadata": {},
     "output_type": "execute_result"
    }
   ],
   "source": [
    "df_sample.describe()"
   ]
  },
  {
   "cell_type": "markdown",
   "id": "71c1aa90",
   "metadata": {},
   "source": [
    "#### encoding data"
   ]
  },
  {
   "cell_type": "code",
   "execution_count": 94,
   "id": "c8cc2dac",
   "metadata": {},
   "outputs": [],
   "source": [
    "label_encode =preprocessing.LabelEncoder()\n",
    "df_sample['type']=label_encode.fit_transform(df_sample['type'])\n",
    "df_sample['nameOrig']=label_encode.fit_transform(df_sample['nameOrig'])\n",
    "df_sample['nameDest']=label_encode.fit_transform(df_sample['nameDest'])"
   ]
  },
  {
   "cell_type": "code",
   "execution_count": 95,
   "id": "34840055",
   "metadata": {},
   "outputs": [
    {
     "data": {
      "text/html": [
       "<div>\n",
       "<style scoped>\n",
       "    .dataframe tbody tr th:only-of-type {\n",
       "        vertical-align: middle;\n",
       "    }\n",
       "\n",
       "    .dataframe tbody tr th {\n",
       "        vertical-align: top;\n",
       "    }\n",
       "\n",
       "    .dataframe thead th {\n",
       "        text-align: right;\n",
       "    }\n",
       "</style>\n",
       "<table border=\"1\" class=\"dataframe\">\n",
       "  <thead>\n",
       "    <tr style=\"text-align: right;\">\n",
       "      <th></th>\n",
       "      <th>step</th>\n",
       "      <th>type</th>\n",
       "      <th>amount</th>\n",
       "      <th>nameOrig</th>\n",
       "      <th>oldbalanceOrg</th>\n",
       "      <th>newbalanceOrig</th>\n",
       "      <th>nameDest</th>\n",
       "      <th>oldbalanceDest</th>\n",
       "      <th>newbalanceDest</th>\n",
       "      <th>isFraud</th>\n",
       "      <th>isFlaggedFraud</th>\n",
       "    </tr>\n",
       "  </thead>\n",
       "  <tbody>\n",
       "    <tr>\n",
       "      <th>4164641</th>\n",
       "      <td>304</td>\n",
       "      <td>0</td>\n",
       "      <td>518582.62</td>\n",
       "      <td>1032114</td>\n",
       "      <td>326.0</td>\n",
       "      <td>518908.62</td>\n",
       "      <td>253700</td>\n",
       "      <td>1235851.99</td>\n",
       "      <td>717269.37</td>\n",
       "      <td>0</td>\n",
       "      <td>0</td>\n",
       "    </tr>\n",
       "    <tr>\n",
       "      <th>2241693</th>\n",
       "      <td>186</td>\n",
       "      <td>3</td>\n",
       "      <td>37312.36</td>\n",
       "      <td>98745</td>\n",
       "      <td>51377.0</td>\n",
       "      <td>14064.64</td>\n",
       "      <td>1079547</td>\n",
       "      <td>0.00</td>\n",
       "      <td>0.00</td>\n",
       "      <td>0</td>\n",
       "      <td>0</td>\n",
       "    </tr>\n",
       "    <tr>\n",
       "      <th>5275627</th>\n",
       "      <td>372</td>\n",
       "      <td>3</td>\n",
       "      <td>9094.54</td>\n",
       "      <td>1196142</td>\n",
       "      <td>80304.0</td>\n",
       "      <td>71209.46</td>\n",
       "      <td>848781</td>\n",
       "      <td>0.00</td>\n",
       "      <td>0.00</td>\n",
       "      <td>0</td>\n",
       "      <td>0</td>\n",
       "    </tr>\n",
       "    <tr>\n",
       "      <th>2805590</th>\n",
       "      <td>225</td>\n",
       "      <td>1</td>\n",
       "      <td>194422.54</td>\n",
       "      <td>1240628</td>\n",
       "      <td>40380.0</td>\n",
       "      <td>0.00</td>\n",
       "      <td>267859</td>\n",
       "      <td>23281.97</td>\n",
       "      <td>217704.51</td>\n",
       "      <td>0</td>\n",
       "      <td>0</td>\n",
       "    </tr>\n",
       "    <tr>\n",
       "      <th>176313</th>\n",
       "      <td>12</td>\n",
       "      <td>1</td>\n",
       "      <td>416906.47</td>\n",
       "      <td>253294</td>\n",
       "      <td>0.0</td>\n",
       "      <td>0.00</td>\n",
       "      <td>399996</td>\n",
       "      <td>942493.16</td>\n",
       "      <td>2668884.40</td>\n",
       "      <td>0</td>\n",
       "      <td>0</td>\n",
       "    </tr>\n",
       "  </tbody>\n",
       "</table>\n",
       "</div>"
      ],
      "text/plain": [
       "         step  type     amount  nameOrig  oldbalanceOrg  newbalanceOrig  \\\n",
       "4164641   304     0  518582.62   1032114          326.0       518908.62   \n",
       "2241693   186     3   37312.36     98745        51377.0        14064.64   \n",
       "5275627   372     3    9094.54   1196142        80304.0        71209.46   \n",
       "2805590   225     1  194422.54   1240628        40380.0            0.00   \n",
       "176313     12     1  416906.47    253294            0.0            0.00   \n",
       "\n",
       "         nameDest  oldbalanceDest  newbalanceDest  isFraud  isFlaggedFraud  \n",
       "4164641    253700      1235851.99       717269.37        0               0  \n",
       "2241693   1079547            0.00            0.00        0               0  \n",
       "5275627    848781            0.00            0.00        0               0  \n",
       "2805590    267859        23281.97       217704.51        0               0  \n",
       "176313     399996       942493.16      2668884.40        0               0  "
      ]
     },
     "execution_count": 95,
     "metadata": {},
     "output_type": "execute_result"
    }
   ],
   "source": [
    "df_sample.head()"
   ]
  },
  {
   "cell_type": "markdown",
   "id": "e47fc561",
   "metadata": {},
   "source": [
    "#### Scaling"
   ]
  },
  {
   "cell_type": "code",
   "execution_count": 96,
   "id": "d7f264d7",
   "metadata": {},
   "outputs": [],
   "source": [
    "scaler = preprocessing.StandardScaler()\n",
    "scaler.fit(df_sample.drop('isFraud',axis=1))\n",
    "scaled_features = scaler.transform(df_sample.drop('isFraud',axis=1))\n",
    "X = pd.DataFrame(scaled_features,columns=df.columns[:-1])\n",
    "X.rename(columns = {'isFraud':'isFlaggedFraud'}, inplace = True)\n",
    "Y=df_sample['isFraud']"
   ]
  },
  {
   "cell_type": "code",
   "execution_count": 97,
   "id": "45849a1a",
   "metadata": {},
   "outputs": [
    {
     "data": {
      "text/html": [
       "<div>\n",
       "<style scoped>\n",
       "    .dataframe tbody tr th:only-of-type {\n",
       "        vertical-align: middle;\n",
       "    }\n",
       "\n",
       "    .dataframe tbody tr th {\n",
       "        vertical-align: top;\n",
       "    }\n",
       "\n",
       "    .dataframe thead th {\n",
       "        text-align: right;\n",
       "    }\n",
       "</style>\n",
       "<table border=\"1\" class=\"dataframe\">\n",
       "  <thead>\n",
       "    <tr style=\"text-align: right;\">\n",
       "      <th></th>\n",
       "      <th>step</th>\n",
       "      <th>type</th>\n",
       "      <th>amount</th>\n",
       "      <th>nameOrig</th>\n",
       "      <th>oldbalanceOrg</th>\n",
       "      <th>newbalanceOrig</th>\n",
       "      <th>nameDest</th>\n",
       "      <th>oldbalanceDest</th>\n",
       "      <th>newbalanceDest</th>\n",
       "      <th>isFlaggedFraud</th>\n",
       "    </tr>\n",
       "  </thead>\n",
       "  <tbody>\n",
       "    <tr>\n",
       "      <th>0</th>\n",
       "      <td>0.425799</td>\n",
       "      <td>-1.268705</td>\n",
       "      <td>0.560849</td>\n",
       "      <td>0.056455</td>\n",
       "      <td>-0.288765</td>\n",
       "      <td>-0.115884</td>\n",
       "      <td>-0.467199</td>\n",
       "      <td>0.040581</td>\n",
       "      <td>-0.139931</td>\n",
       "      <td>-0.002</td>\n",
       "    </tr>\n",
       "    <tr>\n",
       "      <th>1</th>\n",
       "      <td>-0.403885</td>\n",
       "      <td>0.952478</td>\n",
       "      <td>-0.236582</td>\n",
       "      <td>-1.560916</td>\n",
       "      <td>-0.271165</td>\n",
       "      <td>-0.287818</td>\n",
       "      <td>2.297288</td>\n",
       "      <td>-0.328362</td>\n",
       "      <td>-0.337846</td>\n",
       "      <td>-0.002</td>\n",
       "    </tr>\n",
       "    <tr>\n",
       "      <th>2</th>\n",
       "      <td>0.903922</td>\n",
       "      <td>0.952478</td>\n",
       "      <td>-0.283337</td>\n",
       "      <td>0.340688</td>\n",
       "      <td>-0.261192</td>\n",
       "      <td>-0.268356</td>\n",
       "      <td>1.524809</td>\n",
       "      <td>-0.328362</td>\n",
       "      <td>-0.337846</td>\n",
       "      <td>-0.002</td>\n",
       "    </tr>\n",
       "    <tr>\n",
       "      <th>3</th>\n",
       "      <td>-0.129667</td>\n",
       "      <td>-0.528311</td>\n",
       "      <td>0.023738</td>\n",
       "      <td>0.417775</td>\n",
       "      <td>-0.274956</td>\n",
       "      <td>-0.292608</td>\n",
       "      <td>-0.419802</td>\n",
       "      <td>-0.321412</td>\n",
       "      <td>-0.277775</td>\n",
       "      <td>-0.002</td>\n",
       "    </tr>\n",
       "    <tr>\n",
       "      <th>4</th>\n",
       "      <td>-1.627316</td>\n",
       "      <td>-0.528311</td>\n",
       "      <td>0.392378</td>\n",
       "      <td>-1.293108</td>\n",
       "      <td>-0.288877</td>\n",
       "      <td>-0.292608</td>\n",
       "      <td>0.022520</td>\n",
       "      <td>-0.046996</td>\n",
       "      <td>0.398577</td>\n",
       "      <td>-0.002</td>\n",
       "    </tr>\n",
       "    <tr>\n",
       "      <th>...</th>\n",
       "      <td>...</td>\n",
       "      <td>...</td>\n",
       "      <td>...</td>\n",
       "      <td>...</td>\n",
       "      <td>...</td>\n",
       "      <td>...</td>\n",
       "      <td>...</td>\n",
       "      <td>...</td>\n",
       "      <td>...</td>\n",
       "      <td>...</td>\n",
       "    </tr>\n",
       "    <tr>\n",
       "      <th>1999995</th>\n",
       "      <td>0.411737</td>\n",
       "      <td>-1.268705</td>\n",
       "      <td>0.267836</td>\n",
       "      <td>0.124718</td>\n",
       "      <td>9.790738</td>\n",
       "      <td>9.780809</td>\n",
       "      <td>-0.504918</td>\n",
       "      <td>2.779401</td>\n",
       "      <td>2.440305</td>\n",
       "      <td>-0.002</td>\n",
       "    </tr>\n",
       "    <tr>\n",
       "      <th>1999996</th>\n",
       "      <td>0.728141</td>\n",
       "      <td>-1.268705</td>\n",
       "      <td>-0.284706</td>\n",
       "      <td>-1.080738</td>\n",
       "      <td>3.298717</td>\n",
       "      <td>3.254171</td>\n",
       "      <td>-0.861161</td>\n",
       "      <td>-0.302666</td>\n",
       "      <td>-0.316377</td>\n",
       "      <td>-0.002</td>\n",
       "    </tr>\n",
       "    <tr>\n",
       "      <th>1999997</th>\n",
       "      <td>0.939078</td>\n",
       "      <td>-0.528311</td>\n",
       "      <td>-0.098364</td>\n",
       "      <td>0.538472</td>\n",
       "      <td>-0.288877</td>\n",
       "      <td>-0.292608</td>\n",
       "      <td>-0.538510</td>\n",
       "      <td>-0.104104</td>\n",
       "      <td>-0.097256</td>\n",
       "      <td>-0.002</td>\n",
       "    </tr>\n",
       "    <tr>\n",
       "      <th>1999998</th>\n",
       "      <td>-1.381224</td>\n",
       "      <td>-0.528311</td>\n",
       "      <td>-0.152751</td>\n",
       "      <td>1.104310</td>\n",
       "      <td>-0.288877</td>\n",
       "      <td>-0.292608</td>\n",
       "      <td>-0.273642</td>\n",
       "      <td>-0.202545</td>\n",
       "      <td>-0.197299</td>\n",
       "      <td>-0.002</td>\n",
       "    </tr>\n",
       "    <tr>\n",
       "      <th>1999999</th>\n",
       "      <td>-0.284354</td>\n",
       "      <td>-0.528311</td>\n",
       "      <td>0.044697</td>\n",
       "      <td>-0.924093</td>\n",
       "      <td>-0.219945</td>\n",
       "      <td>-0.292608</td>\n",
       "      <td>-0.355120</td>\n",
       "      <td>-0.328362</td>\n",
       "      <td>-0.280709</td>\n",
       "      <td>-0.002</td>\n",
       "    </tr>\n",
       "  </tbody>\n",
       "</table>\n",
       "<p>2000000 rows × 10 columns</p>\n",
       "</div>"
      ],
      "text/plain": [
       "             step      type    amount  nameOrig  oldbalanceOrg  \\\n",
       "0        0.425799 -1.268705  0.560849  0.056455      -0.288765   \n",
       "1       -0.403885  0.952478 -0.236582 -1.560916      -0.271165   \n",
       "2        0.903922  0.952478 -0.283337  0.340688      -0.261192   \n",
       "3       -0.129667 -0.528311  0.023738  0.417775      -0.274956   \n",
       "4       -1.627316 -0.528311  0.392378 -1.293108      -0.288877   \n",
       "...           ...       ...       ...       ...            ...   \n",
       "1999995  0.411737 -1.268705  0.267836  0.124718       9.790738   \n",
       "1999996  0.728141 -1.268705 -0.284706 -1.080738       3.298717   \n",
       "1999997  0.939078 -0.528311 -0.098364  0.538472      -0.288877   \n",
       "1999998 -1.381224 -0.528311 -0.152751  1.104310      -0.288877   \n",
       "1999999 -0.284354 -0.528311  0.044697 -0.924093      -0.219945   \n",
       "\n",
       "         newbalanceOrig  nameDest  oldbalanceDest  newbalanceDest  \\\n",
       "0             -0.115884 -0.467199        0.040581       -0.139931   \n",
       "1             -0.287818  2.297288       -0.328362       -0.337846   \n",
       "2             -0.268356  1.524809       -0.328362       -0.337846   \n",
       "3             -0.292608 -0.419802       -0.321412       -0.277775   \n",
       "4             -0.292608  0.022520       -0.046996        0.398577   \n",
       "...                 ...       ...             ...             ...   \n",
       "1999995        9.780809 -0.504918        2.779401        2.440305   \n",
       "1999996        3.254171 -0.861161       -0.302666       -0.316377   \n",
       "1999997       -0.292608 -0.538510       -0.104104       -0.097256   \n",
       "1999998       -0.292608 -0.273642       -0.202545       -0.197299   \n",
       "1999999       -0.292608 -0.355120       -0.328362       -0.280709   \n",
       "\n",
       "         isFlaggedFraud  \n",
       "0                -0.002  \n",
       "1                -0.002  \n",
       "2                -0.002  \n",
       "3                -0.002  \n",
       "4                -0.002  \n",
       "...                 ...  \n",
       "1999995          -0.002  \n",
       "1999996          -0.002  \n",
       "1999997          -0.002  \n",
       "1999998          -0.002  \n",
       "1999999          -0.002  \n",
       "\n",
       "[2000000 rows x 10 columns]"
      ]
     },
     "execution_count": 97,
     "metadata": {},
     "output_type": "execute_result"
    }
   ],
   "source": [
    "X"
   ]
  },
  {
   "cell_type": "code",
   "execution_count": 98,
   "id": "5c9626ca",
   "metadata": {},
   "outputs": [
    {
     "data": {
      "text/plain": [
       "4164641    0\n",
       "2241693    0\n",
       "5275627    0\n",
       "2805590    0\n",
       "176313     0\n",
       "          ..\n",
       "4107828    0\n",
       "4827012    0\n",
       "5406087    0\n",
       "1021207    0\n",
       "2442028    0\n",
       "Name: isFraud, Length: 2000000, dtype: int64"
      ]
     },
     "execution_count": 98,
     "metadata": {},
     "output_type": "execute_result"
    }
   ],
   "source": [
    "Y"
   ]
  },
  {
   "cell_type": "markdown",
   "id": "03debce0",
   "metadata": {},
   "source": [
    "#### splitting data into 60% train, 20% test and 20% cross validation"
   ]
  },
  {
   "cell_type": "code",
   "execution_count": 99,
   "id": "ffe2861b",
   "metadata": {},
   "outputs": [],
   "source": [
    "X_train, X_test, y_train, y_test = train_test_split(X,Y\n",
    "                                                    ,test_size=0.40 )\n",
    "X_cv,X_test1,y_cv,y_test1=train_test_split(X_test,y_test\n",
    "                                                    ,test_size=0.50)"
   ]
  },
  {
   "cell_type": "code",
   "execution_count": 100,
   "id": "5bac4f60",
   "metadata": {},
   "outputs": [
    {
     "data": {
      "text/plain": [
       "((1200000, 10), (1200000,))"
      ]
     },
     "execution_count": 100,
     "metadata": {},
     "output_type": "execute_result"
    }
   ],
   "source": [
    "X_train.shape,y_train.shape"
   ]
  },
  {
   "cell_type": "code",
   "execution_count": 101,
   "id": "4151da83",
   "metadata": {},
   "outputs": [
    {
     "data": {
      "text/plain": [
       "((400000, 10), (400000,))"
      ]
     },
     "execution_count": 101,
     "metadata": {},
     "output_type": "execute_result"
    }
   ],
   "source": [
    "X_test1.shape,y_test1.shape"
   ]
  },
  {
   "cell_type": "code",
   "execution_count": 102,
   "id": "fb8a87c1",
   "metadata": {},
   "outputs": [
    {
     "data": {
      "text/plain": [
       "((400000, 10), (400000,))"
      ]
     },
     "execution_count": 102,
     "metadata": {},
     "output_type": "execute_result"
    }
   ],
   "source": [
    "X_cv.shape,y_cv.shape"
   ]
  },
  {
   "cell_type": "markdown",
   "id": "123e7a5a",
   "metadata": {},
   "source": [
    "## logistic regression model"
   ]
  },
  {
   "cell_type": "code",
   "execution_count": 103,
   "id": "fbda987f",
   "metadata": {},
   "outputs": [
    {
     "name": "stdout",
     "output_type": "stream",
     "text": [
      "MSE for test data= 0.000675\n",
      "MSE for cross validation data= 0.000685\n",
      "accuracy for test data= 0.999325\n",
      "accuracy for cross validation data= 0.999315\n"
     ]
    }
   ],
   "source": [
    "model=linear_model.LogisticRegression(penalty='none')\n",
    "model.fit(X_train,y_train)\n",
    "Y_predict_test1=model.predict(X_test1)\n",
    "Y_predict_cv=model.predict(X_cv)\n",
    "r=mean_squared_error(y_test1, Y_predict_test1)\n",
    "v=mean_squared_error(y_cv, Y_predict_cv)  \n",
    "c=accuracy_score(y_test1,Y_predict_test1) \n",
    "d=accuracy_score(y_cv, Y_predict_cv)                      \n",
    "print('MSE for test data= '+str(r))\n",
    "print('MSE for cross validation data= '+str(v))\n",
    "print('accuracy for test data= '+str(c)) \n",
    "print('accuracy for cross validation data= '+str(d))                     "
   ]
  },
  {
   "cell_type": "code",
   "execution_count": 104,
   "id": "6b1ff7ee",
   "metadata": {},
   "outputs": [
    {
     "data": {
      "text/plain": [
       "array([[399483,     30],\n",
       "       [   240,    247]])"
      ]
     },
     "execution_count": 104,
     "metadata": {},
     "output_type": "execute_result"
    }
   ],
   "source": [
    "conf=confusion_matrix(y_test1,Y_predict_test1)\n",
    "conf"
   ]
  },
  {
   "cell_type": "markdown",
   "id": "bf86bb91",
   "metadata": {},
   "source": [
    "# K-fold and stratified k-fold"
   ]
  },
  {
   "cell_type": "code",
   "execution_count": 105,
   "id": "978ff108",
   "metadata": {
    "scrolled": true
   },
   "outputs": [
    {
     "name": "stdout",
     "output_type": "stream",
     "text": [
      "Accuracy: 0.999 (0.000)\n"
     ]
    }
   ],
   "source": [
    "cv = KFold(n_splits=20, random_state=0, shuffle=True)\n",
    "scores = cross_val_score(model, X, Y, scoring='accuracy', cv=cv, n_jobs=-1)\n",
    "print('Accuracy: %.3f (%.3f)' % (mean(scores), std(scores)))"
   ]
  },
  {
   "cell_type": "code",
   "execution_count": 106,
   "id": "f9c66a1e",
   "metadata": {},
   "outputs": [
    {
     "name": "stdout",
     "output_type": "stream",
     "text": [
      "Accuracy: 0.999 (0.000)\n"
     ]
    }
   ],
   "source": [
    "cv_stratified= StratifiedKFold(n_splits=10, random_state=0, shuffle=True)\n",
    "scores_stratified = cross_val_score(model, X, Y, scoring='accuracy', cv=cv_stratified, n_jobs=-1)\n",
    "print('Accuracy: %.3f (%.3f)' % (mean(scores_stratified), std(scores_stratified)))"
   ]
  },
  {
   "cell_type": "markdown",
   "id": "6faf8cc7",
   "metadata": {},
   "source": [
    "# Regularization"
   ]
  },
  {
   "cell_type": "markdown",
   "id": "34c03883",
   "metadata": {},
   "source": [
    "#### Reige"
   ]
  },
  {
   "cell_type": "code",
   "execution_count": 107,
   "id": "e10344b4",
   "metadata": {},
   "outputs": [
    {
     "name": "stderr",
     "output_type": "stream",
     "text": [
      "/Users/AliElsaidy/opt/anaconda3/lib/python3.8/site-packages/sklearn/linear_model/_logistic.py:763: ConvergenceWarning: lbfgs failed to converge (status=1):\n",
      "STOP: TOTAL NO. of ITERATIONS REACHED LIMIT.\n",
      "\n",
      "Increase the number of iterations (max_iter) or scale the data as shown in:\n",
      "    https://scikit-learn.org/stable/modules/preprocessing.html\n",
      "Please also refer to the documentation for alternative solver options:\n",
      "    https://scikit-learn.org/stable/modules/linear_model.html#logistic-regression\n",
      "  n_iter_i = _check_optimize_result(\n",
      "/Users/AliElsaidy/opt/anaconda3/lib/python3.8/site-packages/sklearn/linear_model/_logistic.py:763: ConvergenceWarning: lbfgs failed to converge (status=1):\n",
      "STOP: TOTAL NO. of ITERATIONS REACHED LIMIT.\n",
      "\n",
      "Increase the number of iterations (max_iter) or scale the data as shown in:\n",
      "    https://scikit-learn.org/stable/modules/preprocessing.html\n",
      "Please also refer to the documentation for alternative solver options:\n",
      "    https://scikit-learn.org/stable/modules/linear_model.html#logistic-regression\n",
      "  n_iter_i = _check_optimize_result(\n",
      "/Users/AliElsaidy/opt/anaconda3/lib/python3.8/site-packages/sklearn/linear_model/_logistic.py:763: ConvergenceWarning: lbfgs failed to converge (status=1):\n",
      "STOP: TOTAL NO. of ITERATIONS REACHED LIMIT.\n",
      "\n",
      "Increase the number of iterations (max_iter) or scale the data as shown in:\n",
      "    https://scikit-learn.org/stable/modules/preprocessing.html\n",
      "Please also refer to the documentation for alternative solver options:\n",
      "    https://scikit-learn.org/stable/modules/linear_model.html#logistic-regression\n",
      "  n_iter_i = _check_optimize_result(\n",
      "/Users/AliElsaidy/opt/anaconda3/lib/python3.8/site-packages/sklearn/linear_model/_logistic.py:763: ConvergenceWarning: lbfgs failed to converge (status=1):\n",
      "STOP: TOTAL NO. of ITERATIONS REACHED LIMIT.\n",
      "\n",
      "Increase the number of iterations (max_iter) or scale the data as shown in:\n",
      "    https://scikit-learn.org/stable/modules/preprocessing.html\n",
      "Please also refer to the documentation for alternative solver options:\n",
      "    https://scikit-learn.org/stable/modules/linear_model.html#logistic-regression\n",
      "  n_iter_i = _check_optimize_result(\n"
     ]
    },
    {
     "data": {
      "text/plain": [
       "[0.0007175000000000376,\n",
       " 0.0007175000000000376,\n",
       " 0.0007224999999999593,\n",
       " 0.0007350000000000412,\n",
       " 0.000747500000000012,\n",
       " 0.0007650000000000157,\n",
       " 0.0007724999999999538,\n",
       " 0.0008049999999999446,\n",
       " 0.0008424999999999683,\n",
       " 0.0008799999999999919,\n",
       " 0.0009350000000000191]"
      ]
     },
     "execution_count": 107,
     "metadata": {},
     "output_type": "execute_result"
    }
   ],
   "source": [
    "lamda=[0.01,0.02,0.04,0.08,0.16,0.32,0.64,1.28,2.56,5.12,10.24]\n",
    "listoferror=[]\n",
    "for i in lamda:\n",
    "    lr_reg=LogisticRegression(C=1/i)\n",
    "    lr_reg.fit(X_train,y_train)\n",
    "    pred_val_reg=lr_reg.predict(X_cv)\n",
    "    accuracy_val=accuracy_score(y_cv,pred_val_reg)\n",
    "    err_cv=1-accuracy_val\n",
    "    listoferror.append(1-accuracy_val)\n",
    "listoferror\n"
   ]
  },
  {
   "cell_type": "code",
   "execution_count": 108,
   "id": "69d09717",
   "metadata": {},
   "outputs": [
    {
     "data": {
      "text/plain": [
       "0.01"
      ]
     },
     "execution_count": 108,
     "metadata": {},
     "output_type": "execute_result"
    }
   ],
   "source": [
    "lamda[np.argmin(listoferror)]"
   ]
  },
  {
   "cell_type": "markdown",
   "id": "1174f6c0",
   "metadata": {},
   "source": [
    "#### Lasso"
   ]
  },
  {
   "cell_type": "code",
   "execution_count": 109,
   "id": "60075d83",
   "metadata": {},
   "outputs": [
    {
     "name": "stderr",
     "output_type": "stream",
     "text": [
      "/Users/AliElsaidy/opt/anaconda3/lib/python3.8/site-packages/sklearn/linear_model/_sag.py:328: ConvergenceWarning: The max_iter was reached which means the coef_ did not converge\n",
      "  warnings.warn(\"The max_iter was reached which means \"\n",
      "/Users/AliElsaidy/opt/anaconda3/lib/python3.8/site-packages/sklearn/linear_model/_sag.py:328: ConvergenceWarning: The max_iter was reached which means the coef_ did not converge\n",
      "  warnings.warn(\"The max_iter was reached which means \"\n",
      "/Users/AliElsaidy/opt/anaconda3/lib/python3.8/site-packages/sklearn/linear_model/_sag.py:328: ConvergenceWarning: The max_iter was reached which means the coef_ did not converge\n",
      "  warnings.warn(\"The max_iter was reached which means \"\n",
      "/Users/AliElsaidy/opt/anaconda3/lib/python3.8/site-packages/sklearn/linear_model/_sag.py:328: ConvergenceWarning: The max_iter was reached which means the coef_ did not converge\n",
      "  warnings.warn(\"The max_iter was reached which means \"\n",
      "/Users/AliElsaidy/opt/anaconda3/lib/python3.8/site-packages/sklearn/linear_model/_sag.py:328: ConvergenceWarning: The max_iter was reached which means the coef_ did not converge\n",
      "  warnings.warn(\"The max_iter was reached which means \"\n",
      "/Users/AliElsaidy/opt/anaconda3/lib/python3.8/site-packages/sklearn/linear_model/_sag.py:328: ConvergenceWarning: The max_iter was reached which means the coef_ did not converge\n",
      "  warnings.warn(\"The max_iter was reached which means \"\n",
      "/Users/AliElsaidy/opt/anaconda3/lib/python3.8/site-packages/sklearn/linear_model/_sag.py:328: ConvergenceWarning: The max_iter was reached which means the coef_ did not converge\n",
      "  warnings.warn(\"The max_iter was reached which means \"\n",
      "/Users/AliElsaidy/opt/anaconda3/lib/python3.8/site-packages/sklearn/linear_model/_sag.py:328: ConvergenceWarning: The max_iter was reached which means the coef_ did not converge\n",
      "  warnings.warn(\"The max_iter was reached which means \"\n",
      "/Users/AliElsaidy/opt/anaconda3/lib/python3.8/site-packages/sklearn/linear_model/_sag.py:328: ConvergenceWarning: The max_iter was reached which means the coef_ did not converge\n",
      "  warnings.warn(\"The max_iter was reached which means \"\n",
      "/Users/AliElsaidy/opt/anaconda3/lib/python3.8/site-packages/sklearn/linear_model/_sag.py:328: ConvergenceWarning: The max_iter was reached which means the coef_ did not converge\n",
      "  warnings.warn(\"The max_iter was reached which means \"\n",
      "/Users/AliElsaidy/opt/anaconda3/lib/python3.8/site-packages/sklearn/linear_model/_sag.py:328: ConvergenceWarning: The max_iter was reached which means the coef_ did not converge\n",
      "  warnings.warn(\"The max_iter was reached which means \"\n"
     ]
    },
    {
     "data": {
      "text/plain": [
       "[0.001227500000000048,\n",
       " 0.001214999999999966,\n",
       " 0.0012124999999999497,\n",
       " 0.0012100000000000444,\n",
       " 0.0012100000000000444,\n",
       " 0.0012100000000000444,\n",
       " 0.0012100000000000444,\n",
       " 0.0012100000000000444,\n",
       " 0.0012100000000000444,\n",
       " 0.0012100000000000444,\n",
       " 0.0012100000000000444]"
      ]
     },
     "execution_count": 109,
     "metadata": {},
     "output_type": "execute_result"
    }
   ],
   "source": [
    "lamda1=[0.01,0.02,0.04,0.08,0.16,0.32,0.64,1.28,2.56,5.12,10.24]\n",
    "listoferror1=[]\n",
    "for i in lamda1:\n",
    "    lr_reg=LogisticRegression(penalty='l1', C=i, solver='saga')\n",
    "    lr_reg.fit(X_train,y_train)\n",
    "    pred_val_reg=lr_reg.predict(X_cv)\n",
    "    accuracy_val=accuracy_score(y_cv,pred_val_reg)\n",
    "    err_cv=1-accuracy_val\n",
    "    listoferror1.append(1-accuracy_val)\n",
    "listoferror1"
   ]
  },
  {
   "cell_type": "code",
   "execution_count": 110,
   "id": "d0c9ff94",
   "metadata": {},
   "outputs": [
    {
     "data": {
      "text/plain": [
       "0.08"
      ]
     },
     "execution_count": 110,
     "metadata": {},
     "output_type": "execute_result"
    }
   ],
   "source": [
    "lamda1[np.argmin(listoferror1)]"
   ]
  },
  {
   "cell_type": "code",
   "execution_count": null,
   "id": "0b14715e",
   "metadata": {},
   "outputs": [],
   "source": []
  }
 ],
 "metadata": {
  "kernelspec": {
   "display_name": "Python 3",
   "language": "python",
   "name": "python3"
  },
  "language_info": {
   "codemirror_mode": {
    "name": "ipython",
    "version": 3
   },
   "file_extension": ".py",
   "mimetype": "text/x-python",
   "name": "python",
   "nbconvert_exporter": "python",
   "pygments_lexer": "ipython3",
   "version": "3.8.8"
  }
 },
 "nbformat": 4,
 "nbformat_minor": 5
}
